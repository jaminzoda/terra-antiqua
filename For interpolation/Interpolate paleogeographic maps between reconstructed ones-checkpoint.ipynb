{
 "cells": [
  {
   "cell_type": "code",
   "execution_count": 1,
   "metadata": {},
   "outputs": [],
   "source": [
    "import sys\n",
    "sys.path.insert(1, '/home/jon/dev/python/atom_utils-master/')\n",
    "sys.path.insert(1, '/home/jon/dev/terra_antiqua/')\n",
    "sys.path.insert(1, '/home/jon/dev/terra_antiqua/core/')\n",
    "import numpy\n",
    "from time_step_interpolation import *\n",
    "from reconstruct_atom_rasters import *\n",
    "from PyQt5.QtWidgets import QApplication\n",
    "from PyQt5.QtCore import QVariant\n",
    "app = QApplication([])\n",
    "from qgis.core import (\n",
    "    QgsFeature,\n",
    "    QgsPoint,\n",
    "    QgsVectorLayer,\n",
    "    QgsField,\n",
    "    QgsFields,\n",
    "    QgsCoordinateReferenceSystem\n",
    ")\n",
    "\n",
    "\n"
   ]
  },
  {
   "cell_type": "code",
   "execution_count": 2,
   "metadata": {},
   "outputs": [
    {
     "name": "stdout",
     "output_type": "stream",
     "text": [
      "Reconstruct static polygons...\n",
      "Find static polygons...\n",
      "Group by polygons...\n",
      "Reverse reconstruct points...\n",
      "Sample present-day grid...\n"
     ]
    }
   ],
   "source": [
    "lons_from, lats_from, lons_to, lats_to, lons_interp, lats_interp = reconstruct_raster(static_polygons, model, time_from, time_to, time_to_interp)"
   ]
  },
  {
   "cell_type": "code",
   "execution_count": 3,
   "metadata": {},
   "outputs": [],
   "source": [
    "features_from = []\n",
    "features_to = []\n",
    "features_interp = []\n",
    "index = 0"
   ]
  },
  {
   "cell_type": "code",
   "execution_count": 4,
   "metadata": {},
   "outputs": [],
   "source": [
    "for lon1, lat1, lon2,lat2,lon3,lat3 in zip(\n",
    "    lons_from,\n",
    "    lats_from,\n",
    "    lons_to,\n",
    "    lats_to,\n",
    "    lons_interp,\n",
    "    lats_interp):\n",
    "        index +=1\n",
    "        feature_from = QgsFeature()\n",
    "        field = QgsField('ident', QVariant.Int, 'integer')\n",
    "        fields = QgsFields()\n",
    "        fields.append(field)\n",
    "        feature_from.setFields(fields)\n",
    "        feature_from['ident']=index\n",
    "        point_from = QgsPoint(lon1,lat1)\n",
    "        feature_from.setGeometry(point_from)\n",
    "        features_from.append(feature_from)\n",
    "        feature_to = QgsFeature()\n",
    "        feature_to.setFields(fields)\n",
    "        feature_to['ident']=index\n",
    "        point_to = QgsPoint(lon2,lat2)\n",
    "        feature_to.setGeometry(point_to)\n",
    "        features_to.append(feature_to)\n",
    "        feature_interp = QgsFeature()\n",
    "        feature_interp.setFields(fields)\n",
    "        feature_interp['ident']=index\n",
    "        point_interp = QgsPoint(lon3,lat3)\n",
    "        feature_interp.setGeometry(point_interp)\n",
    "        features_interp.append(feature_interp)\n",
    "\n"
   ]
  },
  {
   "cell_type": "code",
   "execution_count": 14,
   "metadata": {},
   "outputs": [],
   "source": [
    "import pprint as pp\n"
   ]
  },
  {
   "cell_type": "code",
   "execution_count": 5,
   "metadata": {},
   "outputs": [],
   "source": [
    "l_from = QgsVectorLayer('Point?crs=epsg:4326', 'Initial layer', 'memory')\n",
    "l_to = QgsVectorLayer('Point?crs=epsg:4326', 'Rotated layer', 'memory')\n",
    "l_interp = QgsVectorLayer('Point?crs=epsg:4326', 'Interolated layer', 'memory')\n",
    "\n"
   ]
  },
  {
   "cell_type": "code",
   "execution_count": 6,
   "metadata": {},
   "outputs": [
    {
     "data": {
      "text/plain": [
       "True"
      ]
     },
     "execution_count": 6,
     "metadata": {},
     "output_type": "execute_result"
    }
   ],
   "source": [
    "l_from.startEditing()\n",
    "field = QgsField('ident', QVariant.Int, 'integer')\n",
    "f_res = l_from.addAttribute(field)\n",
    "l_from.addFeatures(features_from)\n",
    "l_from.commitChanges()"
   ]
  },
  {
   "cell_type": "code",
   "execution_count": 7,
   "metadata": {},
   "outputs": [
    {
     "data": {
      "text/plain": [
       "(0, '')"
      ]
     },
     "execution_count": 7,
     "metadata": {},
     "output_type": "execute_result"
    }
   ],
   "source": [
    "TaVectorFileWriter.writeToShapeFile(l_from, '/home/jon/initial_layer.shp', 'UTF-8', QgsCoordinateReferenceSystem('epsg:4326'), 'ESRI Shapefile')"
   ]
  },
  {
   "cell_type": "code",
   "execution_count": 8,
   "metadata": {},
   "outputs": [
    {
     "data": {
      "text/plain": [
       "True"
      ]
     },
     "execution_count": 8,
     "metadata": {},
     "output_type": "execute_result"
    }
   ],
   "source": [
    "l_to.startEditing()\n",
    "field = QgsField('ident', QVariant.Int, 'integer')\n",
    "f_res = l_to.addAttribute(field)\n",
    "l_to.addFeatures(features_to)\n",
    "l_to.commitChanges()"
   ]
  },
  {
   "cell_type": "code",
   "execution_count": 9,
   "metadata": {},
   "outputs": [
    {
     "data": {
      "text/plain": [
       "(0, '')"
      ]
     },
     "execution_count": 9,
     "metadata": {},
     "output_type": "execute_result"
    }
   ],
   "source": [
    "TaVectorFileWriter.writeToShapeFile(l_to, '/home/jon/rotated_layer.shp', 'UTF-8', QgsCoordinateReferenceSystem('epsg:4326'), 'ESRI Shapefile')"
   ]
  },
  {
   "cell_type": "code",
   "execution_count": 10,
   "metadata": {},
   "outputs": [
    {
     "data": {
      "text/plain": [
       "True"
      ]
     },
     "execution_count": 10,
     "metadata": {},
     "output_type": "execute_result"
    }
   ],
   "source": [
    "l_interp.startEditing()\n",
    "field = QgsField('ident', QVariant.Int, 'integer')\n",
    "f_res = l_interp.addAttribute(field)\n",
    "res = l_interp.addFeatures(features_interp)\n",
    "l_interp.commitChanges()\n"
   ]
  },
  {
   "cell_type": "code",
   "execution_count": 11,
   "metadata": {},
   "outputs": [
    {
     "data": {
      "text/plain": [
       "(0, '')"
      ]
     },
     "execution_count": 11,
     "metadata": {},
     "output_type": "execute_result"
    }
   ],
   "source": [
    "TaVectorFileWriter.writeToShapeFile(l_interp, '/home/jon/interpolated_layer.shp', 'UTF-8', QgsCoordinateReferenceSystem('epsg:4326'), 'ESRI Shapefile')"
   ]
  },
  {
   "cell_type": "code",
   "execution_count": 16,
   "metadata": {},
   "outputs": [],
   "source": [
    "\n",
    "l = QgsVectorLayer('/home/jon/initial_points.shp', 'Initial points', 'ogr')\n"
   ]
  },
  {
   "cell_type": "code",
   "execution_count": 22,
   "metadata": {},
   "outputs": [
    {
     "ename": "AttributeError",
     "evalue": "'QgsGeometry' object has no attribute 'z'",
     "output_type": "error",
     "traceback": [
      "\u001b[0;31m---------------------------------------------------------------------------\u001b[0m",
      "\u001b[0;31mAttributeError\u001b[0m                            Traceback (most recent call last)",
      "\u001b[0;32m<ipython-input-22-d9faa34bfc19>\u001b[0m in \u001b[0;36m<module>\u001b[0;34m\u001b[0m\n\u001b[1;32m      6\u001b[0m \u001b[0;32mfor\u001b[0m \u001b[0mfeat\u001b[0m \u001b[0;32min\u001b[0m \u001b[0ml\u001b[0m\u001b[0;34m.\u001b[0m\u001b[0mgetFeatures\u001b[0m\u001b[0;34m(\u001b[0m\u001b[0;34m)\u001b[0m\u001b[0;34m:\u001b[0m\u001b[0;34m\u001b[0m\u001b[0;34m\u001b[0m\u001b[0m\n\u001b[1;32m      7\u001b[0m     \u001b[0mgeom\u001b[0m \u001b[0;34m=\u001b[0m \u001b[0mfeat\u001b[0m\u001b[0;34m.\u001b[0m\u001b[0mgeometry\u001b[0m\u001b[0;34m(\u001b[0m\u001b[0;34m)\u001b[0m\u001b[0;34m\u001b[0m\u001b[0;34m\u001b[0m\u001b[0m\n\u001b[0;32m----> 8\u001b[0;31m     \u001b[0mz\u001b[0m \u001b[0;34m=\u001b[0m \u001b[0mgeom\u001b[0m\u001b[0;34m.\u001b[0m\u001b[0mz\u001b[0m\u001b[0;34m(\u001b[0m\u001b[0;34m)\u001b[0m\u001b[0;34m\u001b[0m\u001b[0;34m\u001b[0m\u001b[0m\n\u001b[0m\u001b[1;32m      9\u001b[0m     \u001b[0mfeat\u001b[0m\u001b[0;34m.\u001b[0m\u001b[0maddFields\u001b[0m\u001b[0;34m(\u001b[0m\u001b[0mfields\u001b[0m\u001b[0;34m)\u001b[0m\u001b[0;34m\u001b[0m\u001b[0;34m\u001b[0m\u001b[0m\n\u001b[1;32m     10\u001b[0m     \u001b[0mfeat\u001b[0m\u001b[0;34m[\u001b[0m\u001b[0;34m\"Height\"\u001b[0m\u001b[0;34m]\u001b[0m\u001b[0;34m=\u001b[0m\u001b[0mz\u001b[0m\u001b[0;34m\u001b[0m\u001b[0;34m\u001b[0m\u001b[0m\n",
      "\u001b[0;31mAttributeError\u001b[0m: 'QgsGeometry' object has no attribute 'z'"
     ]
    }
   ],
   "source": [
    "field = QgsField(\"Height\", QVariant.Double, \"float\")\n",
    "fields = QgsFields()\n",
    "fields.append(field)\n",
    "l.startEditing()\n",
    "l.addAttribute(field)\n",
    "for feat in l.getFeatures():\n",
    "    geom = feat.geometry()\n",
    "    z = QgsPoint(geom).z()\n",
    "    feat.addFields(fields)\n",
    "    feat[\"Height\"]=z\n",
    "    l.updateFeature(feat)\n",
    "    \n",
    "l.commitChanges()\n",
    "    "
   ]
  },
  {
   "cell_type": "code",
   "execution_count": 24,
   "metadata": {},
   "outputs": [
    {
     "data": {
      "text/plain": [
       "['AddPartNotMultiGeometry',\n",
       " 'AddPartSelectedGeometryNotFound',\n",
       " 'AddRingCrossesExistingRings',\n",
       " 'AddRingNotClosed',\n",
       " 'AddRingNotInExistingFeature',\n",
       " 'AddRingNotValid',\n",
       " 'BufferSide',\n",
       " 'CapFlat',\n",
       " 'CapRound',\n",
       " 'CapSquare',\n",
       " 'EndCapStyle',\n",
       " 'Error',\n",
       " 'FlagAllowSelfTouchingHoles',\n",
       " 'GeometryEngineError',\n",
       " 'InvalidBaseGeometry',\n",
       " 'InvalidInputGeometryType',\n",
       " 'JoinStyle',\n",
       " 'JoinStyleBevel',\n",
       " 'JoinStyleMiter',\n",
       " 'JoinStyleRound',\n",
       " 'LayerNotEditable',\n",
       " 'NothingHappened',\n",
       " 'OperationResult',\n",
       " 'SelectionIsEmpty',\n",
       " 'SelectionIsGreaterThanOne',\n",
       " 'SideLeft',\n",
       " 'SideRight',\n",
       " 'SplitCannotSplitPoint',\n",
       " 'Success',\n",
       " 'ValidationMethod',\n",
       " 'ValidatorGeos',\n",
       " 'ValidatorQgisInternal',\n",
       " 'ValidityFlag',\n",
       " 'ValidityFlags',\n",
       " '__bool__',\n",
       " '__class__',\n",
       " '__delattr__',\n",
       " '__dict__',\n",
       " '__dir__',\n",
       " '__doc__',\n",
       " '__eq__',\n",
       " '__format__',\n",
       " '__ge__',\n",
       " '__geo_interface__',\n",
       " '__getattribute__',\n",
       " '__gt__',\n",
       " '__hash__',\n",
       " '__init__',\n",
       " '__init_subclass__',\n",
       " '__le__',\n",
       " '__lt__',\n",
       " '__module__',\n",
       " '__ne__',\n",
       " '__new__',\n",
       " '__nonzero__',\n",
       " '__reduce__',\n",
       " '__reduce_ex__',\n",
       " '__repr__',\n",
       " '__setattr__',\n",
       " '__sizeof__',\n",
       " '__str__',\n",
       " '__subclasshook__',\n",
       " '__weakref__',\n",
       " 'addPart',\n",
       " 'addPartGeometry',\n",
       " 'addPoints',\n",
       " 'addPointsXY',\n",
       " 'addRing',\n",
       " 'adjacentVertices',\n",
       " 'angleAtVertex',\n",
       " 'area',\n",
       " 'asGeometryCollection',\n",
       " 'asJson',\n",
       " 'asMultiPoint',\n",
       " 'asMultiPolygon',\n",
       " 'asMultiPolyline',\n",
       " 'asPoint',\n",
       " 'asPolygon',\n",
       " 'asPolyline',\n",
       " 'asQPointF',\n",
       " 'asQPolygonF',\n",
       " 'asWkb',\n",
       " 'asWkt',\n",
       " 'avoidIntersections',\n",
       " 'boundingBox',\n",
       " 'boundingBoxIntersects',\n",
       " 'buffer',\n",
       " 'centroid',\n",
       " 'clipped',\n",
       " 'closestSegmentWithContext',\n",
       " 'closestVertex',\n",
       " 'closestVertexWithContext',\n",
       " 'collectGeometry',\n",
       " 'combine',\n",
       " 'compare',\n",
       " 'constGet',\n",
       " 'constParts',\n",
       " 'contains',\n",
       " 'convertGeometryCollectionToSubclass',\n",
       " 'convertPointList',\n",
       " 'convertToMultiType',\n",
       " 'convertToSingleType',\n",
       " 'convertToStraightSegment',\n",
       " 'convertToType',\n",
       " 'convexHull',\n",
       " 'createGeometryEngine',\n",
       " 'createPolygonFromQPolygonF',\n",
       " 'createPolylineFromQPolygonF',\n",
       " 'createWedgeBuffer',\n",
       " 'crosses',\n",
       " 'delaunayTriangulation',\n",
       " 'deletePart',\n",
       " 'deleteRing',\n",
       " 'deleteVertex',\n",
       " 'densifyByCount',\n",
       " 'densifyByDistance',\n",
       " 'difference',\n",
       " 'disjoint',\n",
       " 'distance',\n",
       " 'distanceToVertex',\n",
       " 'draw',\n",
       " 'equals',\n",
       " 'extendLine',\n",
       " 'extrude',\n",
       " 'forceRHR',\n",
       " 'fromMultiPointXY',\n",
       " 'fromMultiPolygonXY',\n",
       " 'fromMultiPolylineXY',\n",
       " 'fromPointXY',\n",
       " 'fromPolygonXY',\n",
       " 'fromPolyline',\n",
       " 'fromPolylineXY',\n",
       " 'fromQPointF',\n",
       " 'fromQPolygonF',\n",
       " 'fromRect',\n",
       " 'fromWkb',\n",
       " 'fromWkt',\n",
       " 'get',\n",
       " 'hausdorffDistance',\n",
       " 'hausdorffDistanceDensify',\n",
       " 'insertVertex',\n",
       " 'interpolate',\n",
       " 'interpolateAngle',\n",
       " 'intersection',\n",
       " 'intersects',\n",
       " 'isEmpty',\n",
       " 'isGeosEqual',\n",
       " 'isGeosValid',\n",
       " 'isMultipart',\n",
       " 'isNull',\n",
       " 'isSimple',\n",
       " 'lastError',\n",
       " 'length',\n",
       " 'lineLocatePoint',\n",
       " 'makeDifference',\n",
       " 'makeValid',\n",
       " 'mapToPixel',\n",
       " 'mergeLines',\n",
       " 'minimalEnclosingCircle',\n",
       " 'moveVertex',\n",
       " 'nearestPoint',\n",
       " 'offsetCurve',\n",
       " 'orientedMinimumBoundingBox',\n",
       " 'orthogonalize',\n",
       " 'overlaps',\n",
       " 'parts',\n",
       " 'pointOnSurface',\n",
       " 'poleOfInaccessibility',\n",
       " 'polygonize',\n",
       " 'randomPointsInPolygon',\n",
       " 'removeDuplicateNodes',\n",
       " 'removeInteriorRings',\n",
       " 'requiresConversionToStraightSegments',\n",
       " 'reshapeGeometry',\n",
       " 'rotate',\n",
       " 'set',\n",
       " 'shortestLine',\n",
       " 'simplify',\n",
       " 'singleSidedBuffer',\n",
       " 'smooth',\n",
       " 'snappedToGrid',\n",
       " 'splitGeometry',\n",
       " 'sqrDistToVertexAt',\n",
       " 'staticMetaObject',\n",
       " 'subdivide',\n",
       " 'symDifference',\n",
       " 'taperedBuffer',\n",
       " 'touches',\n",
       " 'transform',\n",
       " 'translate',\n",
       " 'type',\n",
       " 'unaryUnion',\n",
       " 'validateGeometry',\n",
       " 'variableWidthBufferByM',\n",
       " 'vertexAt',\n",
       " 'vertexIdFromVertexNr',\n",
       " 'vertexNrFromVertexId',\n",
       " 'vertices',\n",
       " 'voronoiDiagram',\n",
       " 'within',\n",
       " 'wkbType']"
      ]
     },
     "execution_count": 24,
     "metadata": {},
     "output_type": "execute_result"
    }
   ],
   "source": [
    "dir(geom)"
   ]
  }
 ],
 "metadata": {
  "kernelspec": {
   "display_name": "Python 3",
   "language": "python",
   "name": "python3"
  },
  "language_info": {
   "codemirror_mode": {
    "name": "ipython",
    "version": 3
   },
   "file_extension": ".py",
   "mimetype": "text/x-python",
   "name": "python",
   "nbconvert_exporter": "python",
   "pygments_lexer": "ipython3",
   "version": "3.8.5"
  }
 },
 "nbformat": 4,
 "nbformat_minor": 4
}
